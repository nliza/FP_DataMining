{
  "nbformat": 4,
  "nbformat_minor": 0,
  "metadata": {
    "colab": {
      "provenance": [],
      "mount_file_id": "1UZdtWohBhEKnoS3nDMXW7Fzr6fUNdchl",
      "authorship_tag": "ABX9TyMu3ch5rAE/iYEMS5Ruwbzb",
      "include_colab_link": true
    },
    "kernelspec": {
      "name": "python3",
      "display_name": "Python 3"
    },
    "language_info": {
      "name": "python"
    }
  },
  "cells": [
    {
      "cell_type": "markdown",
      "metadata": {
        "id": "view-in-github",
        "colab_type": "text"
      },
      "source": [
        "<a href=\"https://colab.research.google.com/github/nliza/FP_DataMining/blob/main/scraping_femaleDaily.ipynb\" target=\"_parent\"><img src=\"https://colab.research.google.com/assets/colab-badge.svg\" alt=\"Open In Colab\"/></a>"
      ]
    },
    {
      "cell_type": "code",
      "source": [
        "import csv\n",
        "import requests\n",
        "from bs4 import BeautifulSoup"
      ],
      "metadata": {
        "id": "6kdvqo1IKpBY"
      },
      "execution_count": null,
      "outputs": []
    },
    {
      "cell_type": "code",
      "source": [
        "def main():\n",
        "    base_url = \"https://reviews.femaledaily.com/products/moisturizer/gel/skintific/5x-ceramide-barrier-repair-moisture-gel-moisturizer\"\n",
        "    result = []\n",
        "\n",
        "    # loop dari halaman 1 sampai 4\n",
        "    for page in range(1, 120):\n",
        "        url = f\"{base_url}?cat=&cat_id=0&age_range=&skin_type=&skin_tone=&skin_undertone=&hair_texture=&hair_type=&order=newest&page={page}\"\n",
        "        response = requests.get(url)\n",
        "\n",
        "        if response.status_code == 200:\n",
        "            soup = BeautifulSoup(response.content, \"html.parser\")\n",
        "\n",
        "            # semua elemen review\n",
        "            reviews = soup.find_all(\"div\", class_=\"text-wrapper\")\n",
        "            info_wrappers = soup.find_all(\"div\", class_=\"information-wrapper\")\n",
        "            review_cards = soup.find_all(\"div\", class_=\"review-card\")\n",
        "\n",
        "            for i, review in enumerate(reviews):\n",
        "                try:\n",
        "                    username = review.find(\"p\", class_=\"profile-username\").text.strip()\n",
        "                    profile_age = review.find(\"p\", class_=\"profile-age\").text.strip()\n",
        "                    profile_description = review.find(\"p\", class_=\"profile-description\").text.strip()\n",
        "                except AttributeError:\n",
        "                    username, profile_age, profile_description = \"N/A\", \"N/A\", \"N/A\"\n",
        "\n",
        "                # usage period dan purchase point\n",
        "                try:\n",
        "                    usage_period_tag = info_wrappers[i].select_one(\"p:has(i.icon-ic_clock) b\")\n",
        "                    usage_period = usage_period_tag.text.strip() if usage_period_tag else \"N/A\"\n",
        "                except (AttributeError, IndexError):\n",
        "                    usage_period = \"N/A\"\n",
        "\n",
        "                try:\n",
        "                    purchase_point_tag = info_wrappers[i].select_one(\"p:has(i.icon-ic_shop) b\")\n",
        "                    purchase_point = purchase_point_tag.text.strip() if purchase_point_tag else \"N/A\"\n",
        "                except (AttributeError, IndexError):\n",
        "                    purchase_point = \"N/A\"\n",
        "\n",
        "                #  rating dari jumlah bintang\n",
        "                try:\n",
        "                    stars = len(review_cards[i].select('.cardrv-starlist i.icon-ic_big_star_full'))\n",
        "                except (AttributeError, IndexError):\n",
        "                    stars = 0\n",
        "\n",
        "                # status rekomendasi\n",
        "                try:\n",
        "                    recommend = review_cards[i].find('p', class_='recommend')\n",
        "                    if recommend and recommend.find('i', class_='icon-ic_thumbs_up'):\n",
        "                        recommendation_status = 'Ya'\n",
        "                    elif recommend and recommend.find('i', class_='icon-ic_thumbs_down'):\n",
        "                        recommendation_status = 'Tidak'\n",
        "                    else:\n",
        "                        recommendation_status = 'Tidak Ada Status'\n",
        "                except (AttributeError, IndexError):\n",
        "                    recommendation_status = 'N/A'\n",
        "\n",
        "                # review\n",
        "                try:\n",
        "                    review_text = review_cards[i].find('p', class_='text-content')\n",
        "                    review_text = review_text.get_text(strip=True) if review_text else 'No Review Text'\n",
        "                except (AttributeError, IndexError):\n",
        "                    review_text = 'N/A'\n",
        "\n",
        "                # menyimpan hasil\n",
        "                value = {\n",
        "                    'Username': username,\n",
        "                    'Profile Age': profile_age,\n",
        "                    'Profile Description': profile_description,\n",
        "                    'Usage Period': usage_period,\n",
        "                    'Purchase Point': purchase_point,\n",
        "                    'Stars': stars,\n",
        "                    'Recommend': recommendation_status,\n",
        "                    'Review': review_text\n",
        "                }\n",
        "                result.append(value)\n",
        "        else:\n",
        "            print(f\"Failed to fetch page {page}: {response.status_code}\")\n",
        "\n",
        "\n",
        "    # menyimpan ke CSV\n",
        "    if result:\n",
        "        keys = result[0].keys()\n",
        "        path = \"/content/drive/MyDrive/Female Daily/review_femaleDaily.csv\"\n",
        "        with open(path, \"w\", newline=\"\", encoding=\"utf-8\") as output_file:\n",
        "            dict_writer = csv.DictWriter(output_file, keys)\n",
        "            dict_writer.writeheader()\n",
        "            dict_writer.writerows(result)\n",
        "        print(f\"Reviews saved to '{path}'\")\n",
        "    else:\n",
        "        print(\"No data to save.\")\n",
        "\n",
        "if __name__ == \"__main__\":\n",
        "    main()\n"
      ],
      "metadata": {
        "colab": {
          "base_uri": "https://localhost:8080/"
        },
        "id": "HaoTK4-zK0pi",
        "outputId": "7e74b139-e182-4ab6-b4a6-23510fbe18e5"
      },
      "execution_count": null,
      "outputs": [
        {
          "output_type": "stream",
          "name": "stdout",
          "text": [
            "Reviews saved to '/content/drive/MyDrive/Female Daily/review_femaleDaily.csv'\n"
          ]
        }
      ]
    }
  ]
}